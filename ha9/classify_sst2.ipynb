{
 "cells": [
  {
   "cell_type": "code",
   "execution_count": 32,
   "id": "b33f765e",
   "metadata": {},
   "outputs": [],
   "source": [
    "from datasets import load_dataset\n",
    "from sentence_transformers import SentenceTransformer, util\n",
    "from sklearn.linear_model import LogisticRegression\n",
    "\n",
    "import pandas as pd"
   ]
  },
  {
   "cell_type": "code",
   "execution_count": 33,
   "id": "ca7beb63",
   "metadata": {},
   "outputs": [],
   "source": [
    "statistics_df = pd.DataFrame(columns=['dataset', 'transformer', 'accuracy', 'f1', 'precision', 'recall'])"
   ]
  },
  {
   "cell_type": "code",
   "execution_count": 34,
   "id": "a173c561",
   "metadata": {},
   "outputs": [],
   "source": [
    "datasets = {\n",
    "    'SST-2': load_dataset(\"nyu-mll/glue\", \"sst2\"),\n",
    "    'CoLA': load_dataset(\"nyu-mll/glue\", \"cola\")\n",
    "}"
   ]
  },
  {
   "cell_type": "code",
   "execution_count": 35,
   "id": "91bec9c6",
   "metadata": {},
   "outputs": [],
   "source": [
    "#split the training set into a training and validation set 95% training, 5% validation\n",
    "def get_train_val_split(dataset):\n",
    "    split = dataset[\"train\"].train_test_split(test_size=0.05)\n",
    "    \n",
    "    train_dataset = split[\"train\"]\n",
    "    val_dataset = split[\"test\"]\n",
    "    return train_dataset, val_dataset"
   ]
  },
  {
   "cell_type": "code",
   "execution_count": 36,
   "id": "5dd93daa",
   "metadata": {},
   "outputs": [
    {
     "name": "stderr",
     "output_type": "stream",
     "text": [
      "c:\\Users\\theav\\miniconda3\\envs\\sprachverarbeitung\\Lib\\site-packages\\huggingface_hub\\file_download.py:1132: FutureWarning: `resume_download` is deprecated and will be removed in version 1.0.0. Downloads always resume when possible. If you want to force a new download, use `force_download=True`.\n",
      "  warnings.warn(\n"
     ]
    }
   ],
   "source": [
    "sentence_transformers = {\n",
    "    \"paraphrase-MiniLM-L6-v2\": SentenceTransformer('sentence-transformers/paraphrase-MiniLM-L6-v2'),\n",
    "    \"all-mpnet-base-v2\": SentenceTransformer(\"all-mpnet-base-v2\")\n",
    "}\n"
   ]
  },
  {
   "cell_type": "code",
   "execution_count": 37,
   "id": "f87bf11f",
   "metadata": {},
   "outputs": [
    {
     "name": "stdout",
     "output_type": "stream",
     "text": [
      "Training model for paraphrase-MiniLM-L6-v2 on SST-2\n"
     ]
    },
    {
     "name": "stderr",
     "output_type": "stream",
     "text": [
      "C:\\Users\\theav\\AppData\\Local\\Temp\\ipykernel_1224\\2266078132.py:24: FutureWarning: The behavior of DataFrame concatenation with empty or all-NA entries is deprecated. In a future version, this will no longer exclude empty or all-NA columns when determining the result dtypes. To retain the old behavior, exclude the relevant entries before the concat operation.\n",
      "  statistics_df = statistics_df._append(\n"
     ]
    },
    {
     "name": "stdout",
     "output_type": "stream",
     "text": [
      "Training model for all-mpnet-base-v2 on SST-2\n",
      "Training model for paraphrase-MiniLM-L6-v2 on CoLA\n",
      "Training model for all-mpnet-base-v2 on CoLA\n"
     ]
    }
   ],
   "source": [
    "from sklearn.metrics import f1_score, precision_score, recall_score, accuracy_score\n",
    "\n",
    "#Train a logistic regression model on the training sets for each sentence transformer\n",
    "for dataset_name, dataset in datasets.items():\n",
    "    train_dataset, val_dataset = get_train_val_split(dataset)\n",
    "    \n",
    "    for transformer_name, transformer in sentence_transformers.items():\n",
    "        print(f\"Training model for {transformer_name} on {dataset_name}\")\n",
    "        train_embeddings = transformer.encode(train_dataset[\"sentence\"])\n",
    "        val_embeddings = transformer.encode(val_dataset[\"sentence\"])\n",
    "\n",
    "        model = LogisticRegression(max_iter=1000)\n",
    "        model.fit(train_embeddings, train_dataset[\"label\"])\n",
    "        \n",
    "        val_predictions = model.predict(val_embeddings)\n",
    "        \n",
    "        #compute the accuracy, f1, precision, and recall\n",
    "        accuracy = accuracy_score(val_dataset[\"label\"], val_predictions)\n",
    "        f1 = f1_score(val_dataset[\"label\"], val_predictions)\n",
    "        precision = precision_score(val_dataset[\"label\"], val_predictions)\n",
    "        recall = recall_score(val_dataset[\"label\"], val_predictions)\n",
    "        \n",
    "        #store the results in the statistics dataframe\n",
    "        statistics_df = statistics_df._append(\n",
    "            {\n",
    "                'dataset': dataset_name, \n",
    "                'transformer': transformer_name,\n",
    "                'accuracy': accuracy,\n",
    "                'f1': f1,\n",
    "                'precision': precision,\n",
    "                'recall': recall\n",
    "            }, \n",
    "            ignore_index=True\n",
    "        )\n",
    "        \n",
    "        "
   ]
  },
  {
   "cell_type": "code",
   "execution_count": 38,
   "id": "b9ee407f",
   "metadata": {},
   "outputs": [
    {
     "data": {
      "text/html": [
       "<div>\n",
       "<style scoped>\n",
       "    .dataframe tbody tr th:only-of-type {\n",
       "        vertical-align: middle;\n",
       "    }\n",
       "\n",
       "    .dataframe tbody tr th {\n",
       "        vertical-align: top;\n",
       "    }\n",
       "\n",
       "    .dataframe thead th {\n",
       "        text-align: right;\n",
       "    }\n",
       "</style>\n",
       "<table border=\"1\" class=\"dataframe\">\n",
       "  <thead>\n",
       "    <tr style=\"text-align: right;\">\n",
       "      <th></th>\n",
       "      <th>dataset</th>\n",
       "      <th>transformer</th>\n",
       "      <th>accuracy</th>\n",
       "      <th>f1</th>\n",
       "      <th>precision</th>\n",
       "      <th>recall</th>\n",
       "    </tr>\n",
       "  </thead>\n",
       "  <tbody>\n",
       "    <tr>\n",
       "      <th>0</th>\n",
       "      <td>SST-2</td>\n",
       "      <td>paraphrase-MiniLM-L6-v2</td>\n",
       "      <td>0.851841</td>\n",
       "      <td>0.863100</td>\n",
       "      <td>0.869541</td>\n",
       "      <td>0.856754</td>\n",
       "    </tr>\n",
       "    <tr>\n",
       "      <th>1</th>\n",
       "      <td>SST-2</td>\n",
       "      <td>all-mpnet-base-v2</td>\n",
       "      <td>0.897862</td>\n",
       "      <td>0.906318</td>\n",
       "      <td>0.906318</td>\n",
       "      <td>0.906318</td>\n",
       "    </tr>\n",
       "    <tr>\n",
       "      <th>2</th>\n",
       "      <td>CoLA</td>\n",
       "      <td>paraphrase-MiniLM-L6-v2</td>\n",
       "      <td>0.714953</td>\n",
       "      <td>0.819527</td>\n",
       "      <td>0.730871</td>\n",
       "      <td>0.932660</td>\n",
       "    </tr>\n",
       "    <tr>\n",
       "      <th>3</th>\n",
       "      <td>CoLA</td>\n",
       "      <td>all-mpnet-base-v2</td>\n",
       "      <td>0.696262</td>\n",
       "      <td>0.816901</td>\n",
       "      <td>0.702179</td>\n",
       "      <td>0.976431</td>\n",
       "    </tr>\n",
       "  </tbody>\n",
       "</table>\n",
       "</div>"
      ],
      "text/plain": [
       "  dataset              transformer  accuracy        f1  precision    recall\n",
       "0   SST-2  paraphrase-MiniLM-L6-v2  0.851841  0.863100   0.869541  0.856754\n",
       "1   SST-2        all-mpnet-base-v2  0.897862  0.906318   0.906318  0.906318\n",
       "2    CoLA  paraphrase-MiniLM-L6-v2  0.714953  0.819527   0.730871  0.932660\n",
       "3    CoLA        all-mpnet-base-v2  0.696262  0.816901   0.702179  0.976431"
      ]
     },
     "execution_count": 38,
     "metadata": {},
     "output_type": "execute_result"
    }
   ],
   "source": [
    "statistics_df"
   ]
  }
 ],
 "metadata": {
  "kernelspec": {
   "display_name": "Python 3 (ipykernel)",
   "language": "python",
   "name": "python3"
  },
  "language_info": {
   "codemirror_mode": {
    "name": "ipython",
    "version": 3
   },
   "file_extension": ".py",
   "mimetype": "text/x-python",
   "name": "python",
   "nbconvert_exporter": "python",
   "pygments_lexer": "ipython3",
   "version": "3.12.3"
  }
 },
 "nbformat": 4,
 "nbformat_minor": 5
}

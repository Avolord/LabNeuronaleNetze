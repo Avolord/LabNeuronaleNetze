{
 "cells": [
  {
   "cell_type": "code",
   "execution_count": 1,
   "id": "41559134",
   "metadata": {},
   "outputs": [],
   "source": [
    "import pandas as pd"
   ]
  },
  {
   "cell_type": "markdown",
   "id": "fb9fab5a",
   "metadata": {},
   "source": [
    "### WiC dataset\n",
    "\n",
    "https://pilehvar.github.io/wic/"
   ]
  },
  {
   "cell_type": "code",
   "execution_count": 2,
   "id": "481e7f1d",
   "metadata": {},
   "outputs": [],
   "source": [
    "traindf = pd.read_csv(\"WiC_dataset/train/train.data.txt\",sep=\"\\t\",header=None,names=[\"word\",\"pos\",\"index\",\"sent1\",\"sent2\"])"
   ]
  },
  {
   "cell_type": "code",
   "execution_count": 3,
   "id": "dafd76f5",
   "metadata": {},
   "outputs": [],
   "source": [
    "labels = open(\"WiC_dataset/train/train.gold.txt\",\"r\").read().split()"
   ]
  },
  {
   "cell_type": "code",
   "execution_count": 4,
   "id": "42d53d46",
   "metadata": {},
   "outputs": [],
   "source": [
    "traindf[\"labels\"] = labels"
   ]
  },
  {
   "cell_type": "markdown",
   "id": "da636e9d",
   "metadata": {},
   "source": [
    "- Label F: the word has different senses in sent1 and sent2\n",
    "- Label T: the word has the same sense"
   ]
  },
  {
   "cell_type": "code",
   "execution_count": 5,
   "id": "d2d9cefa",
   "metadata": {},
   "outputs": [
    {
     "data": {
      "text/html": [
       "<div>\n",
       "<style scoped>\n",
       "    .dataframe tbody tr th:only-of-type {\n",
       "        vertical-align: middle;\n",
       "    }\n",
       "\n",
       "    .dataframe tbody tr th {\n",
       "        vertical-align: top;\n",
       "    }\n",
       "\n",
       "    .dataframe thead th {\n",
       "        text-align: right;\n",
       "    }\n",
       "</style>\n",
       "<table border=\"1\" class=\"dataframe\">\n",
       "  <thead>\n",
       "    <tr style=\"text-align: right;\">\n",
       "      <th></th>\n",
       "      <th>word</th>\n",
       "      <th>pos</th>\n",
       "      <th>index</th>\n",
       "      <th>sent1</th>\n",
       "      <th>sent2</th>\n",
       "      <th>labels</th>\n",
       "    </tr>\n",
       "  </thead>\n",
       "  <tbody>\n",
       "    <tr>\n",
       "      <th>0</th>\n",
       "      <td>carry</td>\n",
       "      <td>V</td>\n",
       "      <td>2-1</td>\n",
       "      <td>You must carry your camping gear .</td>\n",
       "      <td>Sound carries well over water .</td>\n",
       "      <td>F</td>\n",
       "    </tr>\n",
       "    <tr>\n",
       "      <th>1</th>\n",
       "      <td>go</td>\n",
       "      <td>V</td>\n",
       "      <td>2-6</td>\n",
       "      <td>Messages must go through diplomatic channels .</td>\n",
       "      <td>Do you think the sofa will go through the door ?</td>\n",
       "      <td>F</td>\n",
       "    </tr>\n",
       "    <tr>\n",
       "      <th>2</th>\n",
       "      <td>break</td>\n",
       "      <td>V</td>\n",
       "      <td>0-2</td>\n",
       "      <td>Break an alibi .</td>\n",
       "      <td>The wholesaler broke the container loads into ...</td>\n",
       "      <td>F</td>\n",
       "    </tr>\n",
       "    <tr>\n",
       "      <th>3</th>\n",
       "      <td>cup</td>\n",
       "      <td>N</td>\n",
       "      <td>8-4</td>\n",
       "      <td>He wore a jock strap with a metal cup .</td>\n",
       "      <td>Bees filled the waxen cups with honey .</td>\n",
       "      <td>T</td>\n",
       "    </tr>\n",
       "    <tr>\n",
       "      <th>4</th>\n",
       "      <td>academy</td>\n",
       "      <td>N</td>\n",
       "      <td>1-2</td>\n",
       "      <td>The Academy of Music .</td>\n",
       "      <td>The French Academy .</td>\n",
       "      <td>F</td>\n",
       "    </tr>\n",
       "  </tbody>\n",
       "</table>\n",
       "</div>"
      ],
      "text/plain": [
       "      word pos index                                           sent1  \\\n",
       "0    carry   V   2-1              You must carry your camping gear .   \n",
       "1       go   V   2-6  Messages must go through diplomatic channels .   \n",
       "2    break   V   0-2                                Break an alibi .   \n",
       "3      cup   N   8-4         He wore a jock strap with a metal cup .   \n",
       "4  academy   N   1-2                          The Academy of Music .   \n",
       "\n",
       "                                               sent2 labels  \n",
       "0                    Sound carries well over water .      F  \n",
       "1   Do you think the sofa will go through the door ?      F  \n",
       "2  The wholesaler broke the container loads into ...      F  \n",
       "3            Bees filled the waxen cups with honey .      T  \n",
       "4                               The French Academy .      F  "
      ]
     },
     "execution_count": 5,
     "metadata": {},
     "output_type": "execute_result"
    }
   ],
   "source": [
    "traindf.head()"
   ]
  },
  {
   "cell_type": "markdown",
   "id": "acf3f6d4",
   "metadata": {},
   "source": [
    "### Get Contextualised Embeddings with BERT"
   ]
  },
  {
   "cell_type": "markdown",
   "id": "8c86f7fb",
   "metadata": {},
   "source": [
    "Extrahiert mit dem BERT-Modell die Embeddings für die Zielwörter in den Sätzen und berechnet die cosine similarity für die Embeddings der Zielwörter in einem Satzpaar. Tragt die similarity als zusätzliche Spalte in den Pandas-Dataframe ein. Berechnet die durchschnittliche Ähnlichkeit für Satzpaare mit dem Label F/T."
   ]
  },
  {
   "cell_type": "code",
   "execution_count": 6,
   "id": "1323bf8b",
   "metadata": {},
   "outputs": [
    {
     "name": "stderr",
     "output_type": "stream",
     "text": [
      "c:\\Users\\theav\\miniconda3\\envs\\sprachverarbeitung\\Lib\\site-packages\\tqdm\\auto.py:21: TqdmWarning: IProgress not found. Please update jupyter and ipywidgets. See https://ipywidgets.readthedocs.io/en/stable/user_install.html\n",
      "  from .autonotebook import tqdm as notebook_tqdm\n"
     ]
    }
   ],
   "source": [
    "from transformers import BertTokenizer, BertModel\n",
    "\n",
    "# Load the pre-trained BERT model\n",
    "model_name = 'bert-base-uncased'\n",
    "tokenizer = BertTokenizer.from_pretrained(model_name)\n",
    "model = BertModel.from_pretrained(model_name)"
   ]
  },
  {
   "cell_type": "code",
   "execution_count": 19,
   "id": "9a9ab984",
   "metadata": {},
   "outputs": [],
   "source": [
    "# The target words are in the 'word' column\n",
    "# The sentences are in the 'sent1' and 'sent2' columns\n",
    "# the index is encoded in the 'index' column as {index in sent1}-{index in sent2}\n",
    "\n",
    "import torch\n",
    "from sklearn.metrics.pairwise import cosine_similarity\n",
    "\n",
    "def compute_similarity(sent1, sent2, index, target_word): \n",
    "    # Tokenize the sentences\n",
    "    sent1_tokens = tokenizer(sent1, truncation=True, padding=True, return_tensors='pt')\n",
    "    sent2_tokens = tokenizer(sent2, truncation=True, padding=True, return_tensors='pt')\n",
    "\n",
    "    # Encode the sentences using the BERT model\n",
    "    with torch.no_grad():\n",
    "        sent1_outputs = model(**sent1_tokens)\n",
    "        sent2_outputs = model(**sent2_tokens)\n",
    "    \n",
    "    #convert index to a list of two integers\n",
    "    index = index.split(\"-\")\n",
    "        \n",
    "    # get the index of the target word in the tokenized sentence\n",
    "    target_word_index_sent1 = int(index[0])\n",
    "    target_word_index_sent2 = int(index[1])\n",
    "\n",
    "    # Get the embeddings for the target words\n",
    "    target_word_embeddings_sent1 = sent1_outputs.last_hidden_state[:, target_word_index_sent1, :]\n",
    "    target_word_embeddings_sent2 = sent2_outputs.last_hidden_state[:, target_word_index_sent2, :]\n",
    "\n",
    "    # Calculate the cosine similarity\n",
    "    similarity = cosine_similarity(target_word_embeddings_sent1, target_word_embeddings_sent2)\n",
    "    \n",
    "    return similarity"
   ]
  },
  {
   "cell_type": "code",
   "execution_count": 20,
   "id": "01a30aab",
   "metadata": {},
   "outputs": [],
   "source": [
    "# Add a column to the dataframe with the similarity scores\n",
    "traindf['similarity'] = traindf.apply(lambda x: compute_similarity(x['sent1'], x['sent2'], x['index'], x['word']), axis=1)"
   ]
  },
  {
   "cell_type": "code",
   "execution_count": 21,
   "id": "b59e859c",
   "metadata": {},
   "outputs": [
    {
     "data": {
      "text/html": [
       "<div>\n",
       "<style scoped>\n",
       "    .dataframe tbody tr th:only-of-type {\n",
       "        vertical-align: middle;\n",
       "    }\n",
       "\n",
       "    .dataframe tbody tr th {\n",
       "        vertical-align: top;\n",
       "    }\n",
       "\n",
       "    .dataframe thead th {\n",
       "        text-align: right;\n",
       "    }\n",
       "</style>\n",
       "<table border=\"1\" class=\"dataframe\">\n",
       "  <thead>\n",
       "    <tr style=\"text-align: right;\">\n",
       "      <th></th>\n",
       "      <th>word</th>\n",
       "      <th>pos</th>\n",
       "      <th>index</th>\n",
       "      <th>sent1</th>\n",
       "      <th>sent2</th>\n",
       "      <th>labels</th>\n",
       "      <th>similarity</th>\n",
       "    </tr>\n",
       "  </thead>\n",
       "  <tbody>\n",
       "    <tr>\n",
       "      <th>0</th>\n",
       "      <td>carry</td>\n",
       "      <td>V</td>\n",
       "      <td>2-1</td>\n",
       "      <td>You must carry your camping gear .</td>\n",
       "      <td>Sound carries well over water .</td>\n",
       "      <td>F</td>\n",
       "      <td>[[0.34953433]]</td>\n",
       "    </tr>\n",
       "    <tr>\n",
       "      <th>1</th>\n",
       "      <td>go</td>\n",
       "      <td>V</td>\n",
       "      <td>2-6</td>\n",
       "      <td>Messages must go through diplomatic channels .</td>\n",
       "      <td>Do you think the sofa will go through the door ?</td>\n",
       "      <td>F</td>\n",
       "      <td>[[0.2927307]]</td>\n",
       "    </tr>\n",
       "    <tr>\n",
       "      <th>2</th>\n",
       "      <td>break</td>\n",
       "      <td>V</td>\n",
       "      <td>0-2</td>\n",
       "      <td>Break an alibi .</td>\n",
       "      <td>The wholesaler broke the container loads into ...</td>\n",
       "      <td>F</td>\n",
       "      <td>[[0.12359998]]</td>\n",
       "    </tr>\n",
       "    <tr>\n",
       "      <th>3</th>\n",
       "      <td>cup</td>\n",
       "      <td>N</td>\n",
       "      <td>8-4</td>\n",
       "      <td>He wore a jock strap with a metal cup .</td>\n",
       "      <td>Bees filled the waxen cups with honey .</td>\n",
       "      <td>T</td>\n",
       "      <td>[[0.41982773]]</td>\n",
       "    </tr>\n",
       "    <tr>\n",
       "      <th>4</th>\n",
       "      <td>academy</td>\n",
       "      <td>N</td>\n",
       "      <td>1-2</td>\n",
       "      <td>The Academy of Music .</td>\n",
       "      <td>The French Academy .</td>\n",
       "      <td>F</td>\n",
       "      <td>[[0.32885548]]</td>\n",
       "    </tr>\n",
       "    <tr>\n",
       "      <th>...</th>\n",
       "      <td>...</td>\n",
       "      <td>...</td>\n",
       "      <td>...</td>\n",
       "      <td>...</td>\n",
       "      <td>...</td>\n",
       "      <td>...</td>\n",
       "      <td>...</td>\n",
       "    </tr>\n",
       "    <tr>\n",
       "      <th>5423</th>\n",
       "      <td>krona</td>\n",
       "      <td>N</td>\n",
       "      <td>4-8</td>\n",
       "      <td>Piecas kronas — five krona .</td>\n",
       "      <td>Kronas kurss — the exchange rate of the krona .</td>\n",
       "      <td>T</td>\n",
       "      <td>[[0.45259044]]</td>\n",
       "    </tr>\n",
       "    <tr>\n",
       "      <th>5424</th>\n",
       "      <td>conflict</td>\n",
       "      <td>N</td>\n",
       "      <td>3-1</td>\n",
       "      <td>The harder the conflict the more glorious the ...</td>\n",
       "      <td>The conflict between the government and the re...</td>\n",
       "      <td>T</td>\n",
       "      <td>[[0.36872223]]</td>\n",
       "    </tr>\n",
       "    <tr>\n",
       "      <th>5425</th>\n",
       "      <td>answer</td>\n",
       "      <td>V</td>\n",
       "      <td>0-0</td>\n",
       "      <td>Answer the riddle .</td>\n",
       "      <td>Answer a question .</td>\n",
       "      <td>T</td>\n",
       "      <td>[[0.9479373]]</td>\n",
       "    </tr>\n",
       "    <tr>\n",
       "      <th>5426</th>\n",
       "      <td>play</td>\n",
       "      <td>V</td>\n",
       "      <td>0-0</td>\n",
       "      <td>Play the casinos in Trouville .</td>\n",
       "      <td>Play the races .</td>\n",
       "      <td>T</td>\n",
       "      <td>[[0.9039677]]</td>\n",
       "    </tr>\n",
       "    <tr>\n",
       "      <th>5427</th>\n",
       "      <td>invasion</td>\n",
       "      <td>N</td>\n",
       "      <td>1-1</td>\n",
       "      <td>An invasion of bees .</td>\n",
       "      <td>An invasion of mobile phones .</td>\n",
       "      <td>T</td>\n",
       "      <td>[[0.7991129]]</td>\n",
       "    </tr>\n",
       "  </tbody>\n",
       "</table>\n",
       "<p>5428 rows × 7 columns</p>\n",
       "</div>"
      ],
      "text/plain": [
       "          word pos index                                              sent1  \\\n",
       "0        carry   V   2-1                 You must carry your camping gear .   \n",
       "1           go   V   2-6     Messages must go through diplomatic channels .   \n",
       "2        break   V   0-2                                   Break an alibi .   \n",
       "3          cup   N   8-4            He wore a jock strap with a metal cup .   \n",
       "4      academy   N   1-2                             The Academy of Music .   \n",
       "...        ...  ..   ...                                                ...   \n",
       "5423     krona   N   4-8                       Piecas kronas — five krona .   \n",
       "5424  conflict   N   3-1  The harder the conflict the more glorious the ...   \n",
       "5425    answer   V   0-0                                Answer the riddle .   \n",
       "5426      play   V   0-0                    Play the casinos in Trouville .   \n",
       "5427  invasion   N   1-1                              An invasion of bees .   \n",
       "\n",
       "                                                  sent2 labels      similarity  \n",
       "0                       Sound carries well over water .      F  [[0.34953433]]  \n",
       "1      Do you think the sofa will go through the door ?      F   [[0.2927307]]  \n",
       "2     The wholesaler broke the container loads into ...      F  [[0.12359998]]  \n",
       "3               Bees filled the waxen cups with honey .      T  [[0.41982773]]  \n",
       "4                                  The French Academy .      F  [[0.32885548]]  \n",
       "...                                                 ...    ...             ...  \n",
       "5423    Kronas kurss — the exchange rate of the krona .      T  [[0.45259044]]  \n",
       "5424  The conflict between the government and the re...      T  [[0.36872223]]  \n",
       "5425                                Answer a question .      T   [[0.9479373]]  \n",
       "5426                                   Play the races .      T   [[0.9039677]]  \n",
       "5427                     An invasion of mobile phones .      T   [[0.7991129]]  \n",
       "\n",
       "[5428 rows x 7 columns]"
      ]
     },
     "execution_count": 21,
     "metadata": {},
     "output_type": "execute_result"
    }
   ],
   "source": [
    "traindf"
   ]
  },
  {
   "cell_type": "code",
   "execution_count": 23,
   "id": "46861f8a",
   "metadata": {},
   "outputs": [
    {
     "name": "stdout",
     "output_type": "stream",
     "text": [
      "Average similarity for true labels: [[0.42886347]]\n",
      "Average similarity for false labels: [[0.3418881]]\n"
     ]
    }
   ],
   "source": [
    "filtered_df_T = traindf[traindf['labels'] == 'T']\n",
    "average_similarity_T = filtered_df_T['similarity'].mean()\n",
    "\n",
    "filtered_df_F = traindf[traindf['labels'] == 'F']\n",
    "average_similarity_F = filtered_df_F['similarity'].mean()\n",
    "\n",
    "print(f\"Average similarity for true labels: {average_similarity_T}\")\n",
    "print(f\"Average similarity for false labels: {average_similarity_F}\")\n"
   ]
  }
 ],
 "metadata": {
  "kernelspec": {
   "display_name": "Python 3 (ipykernel)",
   "language": "python",
   "name": "python3"
  },
  "language_info": {
   "codemirror_mode": {
    "name": "ipython",
    "version": 3
   },
   "file_extension": ".py",
   "mimetype": "text/x-python",
   "name": "python",
   "nbconvert_exporter": "python",
   "pygments_lexer": "ipython3",
   "version": "3.12.3"
  }
 },
 "nbformat": 4,
 "nbformat_minor": 5
}

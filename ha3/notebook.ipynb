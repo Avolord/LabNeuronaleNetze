{
 "cells": [
  {
   "cell_type": "code",
   "execution_count": 1,
   "id": "2d63c996",
   "metadata": {},
   "outputs": [],
   "source": [
    "import torch\n",
    "import torch.nn as nn\n",
    "import numpy as np\n",
    "import matplotlib.pyplot as plt\n"
   ]
  },
  {
   "cell_type": "code",
   "execution_count": 2,
   "id": "5d02f6e3",
   "metadata": {},
   "outputs": [],
   "source": [
    "class Perceptron(nn.Module):\n",
    "\n",
    "    def __init__(self, input_dim, output_dim):\n",
    "       \n",
    "        super(Perceptron, self).__init__()\n",
    "        \n",
    "        self.fc1 = nn.Linear(input_dim, output_dim)\n",
    "\n",
    "    def forward(self, x_in):\n",
    "        \n",
    "        print(\"Hello I'm the forward function\")\n",
    "        y = self.fc1(x_in)\n",
    "        \n",
    "        return y\n"
   ]
  },
  {
   "cell_type": "code",
   "execution_count": 3,
   "id": "92574766",
   "metadata": {},
   "outputs": [],
   "source": [
    "p1 = Perceptron(3,1)"
   ]
  },
  {
   "cell_type": "code",
   "execution_count": 4,
   "id": "eeee963b",
   "metadata": {},
   "outputs": [
    {
     "data": {
      "text/plain": [
       "Perceptron(\n",
       "  (fc1): Linear(in_features=3, out_features=1, bias=True)\n",
       ")"
      ]
     },
     "execution_count": 4,
     "metadata": {},
     "output_type": "execute_result"
    }
   ],
   "source": [
    "p1"
   ]
  },
  {
   "cell_type": "code",
   "execution_count": 5,
   "id": "221aebfa",
   "metadata": {},
   "outputs": [
    {
     "data": {
      "text/plain": [
       "Linear(in_features=3, out_features=1, bias=True)"
      ]
     },
     "execution_count": 5,
     "metadata": {},
     "output_type": "execute_result"
    }
   ],
   "source": [
    "p1.fc1"
   ]
  },
  {
   "cell_type": "code",
   "execution_count": 6,
   "id": "bfca728a",
   "metadata": {},
   "outputs": [
    {
     "data": {
      "text/plain": [
       "Parameter containing:\n",
       "tensor([[0.4445, 0.1450, 0.1727]], requires_grad=True)"
      ]
     },
     "execution_count": 6,
     "metadata": {},
     "output_type": "execute_result"
    }
   ],
   "source": [
    "p1.fc1.weight"
   ]
  },
  {
   "cell_type": "code",
   "execution_count": 7,
   "id": "6f0ec3e5",
   "metadata": {},
   "outputs": [
    {
     "data": {
      "text/plain": [
       "Parameter containing:\n",
       "tensor([[ 0.0498,  0.1353, -0.4538]], requires_grad=True)"
      ]
     },
     "execution_count": 7,
     "metadata": {},
     "output_type": "execute_result"
    }
   ],
   "source": [
    "p2 = Perceptron(3,1)\n",
    "p2.fc1.weight"
   ]
  },
  {
   "cell_type": "code",
   "execution_count": 8,
   "id": "5351ea50",
   "metadata": {},
   "outputs": [],
   "source": [
    "x_1 = torch.tensor([1.0,0.0,0.0])"
   ]
  },
  {
   "cell_type": "code",
   "execution_count": 9,
   "id": "d5ed4404",
   "metadata": {},
   "outputs": [
    {
     "data": {
      "text/plain": [
       "tensor([1., 0., 0.])"
      ]
     },
     "execution_count": 9,
     "metadata": {},
     "output_type": "execute_result"
    }
   ],
   "source": [
    "x_1"
   ]
  },
  {
   "cell_type": "code",
   "execution_count": 10,
   "id": "95379f96",
   "metadata": {},
   "outputs": [
    {
     "name": "stdout",
     "output_type": "stream",
     "text": [
      "Hello I'm the forward function\n"
     ]
    },
    {
     "data": {
      "text/plain": [
       "tensor([-0.2888], grad_fn=<ViewBackward0>)"
      ]
     },
     "execution_count": 10,
     "metadata": {},
     "output_type": "execute_result"
    }
   ],
   "source": [
    "p2(x_1)"
   ]
  },
  {
   "cell_type": "code",
   "execution_count": 11,
   "id": "a4589f85",
   "metadata": {},
   "outputs": [
    {
     "data": {
      "text/plain": [
       "Parameter containing:\n",
       "tensor([-0.3386], requires_grad=True)"
      ]
     },
     "execution_count": 11,
     "metadata": {},
     "output_type": "execute_result"
    }
   ],
   "source": [
    "p2.fc1.bias"
   ]
  },
  {
   "cell_type": "code",
   "execution_count": 12,
   "id": "58435a6c",
   "metadata": {},
   "outputs": [
    {
     "data": {
      "text/plain": [
       "tensor([0.7311, 0.5000, 0.5000])"
      ]
     },
     "execution_count": 12,
     "metadata": {},
     "output_type": "execute_result"
    }
   ],
   "source": [
    "torch.sigmoid(x_1)"
   ]
  },
  {
   "cell_type": "code",
   "execution_count": 13,
   "id": "615057ae",
   "metadata": {},
   "outputs": [],
   "source": [
    "class LogReg(nn.Module):\n",
    "\n",
    "    def __init__(self, input_dim, output_dim):\n",
    "       \n",
    "        super(LogReg, self).__init__()\n",
    "        \n",
    "        self.fc1 = nn.Linear(input_dim, output_dim)\n",
    "\n",
    "    def forward(self, x_in):\n",
    "        \n",
    "        print(\"Hello I'm the forward function\")\n",
    "        y = self.fc1(x_in)\n",
    "        y = torch.sigmoid(y)\n",
    "        \n",
    "        return y\n"
   ]
  },
  {
   "cell_type": "code",
   "execution_count": 14,
   "id": "d302e157",
   "metadata": {},
   "outputs": [],
   "source": [
    "lr1 = LogReg(3,1)"
   ]
  },
  {
   "cell_type": "code",
   "execution_count": 15,
   "id": "d27e9929",
   "metadata": {},
   "outputs": [
    {
     "data": {
      "text/plain": [
       "Parameter containing:\n",
       "tensor([[ 0.0984, -0.0107, -0.5585]], requires_grad=True)"
      ]
     },
     "execution_count": 15,
     "metadata": {},
     "output_type": "execute_result"
    }
   ],
   "source": [
    "lr1.fc1.weight"
   ]
  },
  {
   "cell_type": "code",
   "execution_count": 16,
   "id": "4f1e9bf7",
   "metadata": {},
   "outputs": [
    {
     "data": {
      "text/plain": [
       "Parameter containing:\n",
       "tensor([-0.4473], requires_grad=True)"
      ]
     },
     "execution_count": 16,
     "metadata": {},
     "output_type": "execute_result"
    }
   ],
   "source": [
    "lr1.fc1.bias"
   ]
  },
  {
   "cell_type": "code",
   "execution_count": 17,
   "id": "b17b6f66",
   "metadata": {},
   "outputs": [
    {
     "data": {
      "text/plain": [
       "tensor([1., 0., 0.])"
      ]
     },
     "execution_count": 17,
     "metadata": {},
     "output_type": "execute_result"
    }
   ],
   "source": [
    "x_1"
   ]
  },
  {
   "cell_type": "code",
   "execution_count": 18,
   "id": "aa49e326",
   "metadata": {},
   "outputs": [
    {
     "name": "stdout",
     "output_type": "stream",
     "text": [
      "Hello I'm the forward function\n"
     ]
    },
    {
     "data": {
      "text/plain": [
       "tensor([0.4137], grad_fn=<SigmoidBackward0>)"
      ]
     },
     "execution_count": 18,
     "metadata": {},
     "output_type": "execute_result"
    }
   ],
   "source": [
    "lr1(x_1)"
   ]
  },
  {
   "cell_type": "code",
   "execution_count": 19,
   "id": "5a97be00",
   "metadata": {},
   "outputs": [],
   "source": [
    "x_2 = torch.tensor([-10000.0,-15.7,-8.9])"
   ]
  },
  {
   "cell_type": "code",
   "execution_count": 20,
   "id": "bd156557",
   "metadata": {},
   "outputs": [
    {
     "name": "stdout",
     "output_type": "stream",
     "text": [
      "Hello I'm the forward function\n"
     ]
    },
    {
     "data": {
      "text/plain": [
       "tensor([0.], grad_fn=<SigmoidBackward0>)"
      ]
     },
     "execution_count": 20,
     "metadata": {},
     "output_type": "execute_result"
    }
   ],
   "source": [
    "lr1(x_2)"
   ]
  },
  {
   "cell_type": "markdown",
   "id": "85222f02",
   "metadata": {},
   "source": [
    "# Punktewolken bauen"
   ]
  },
  {
   "cell_type": "code",
   "execution_count": 21,
   "id": "887b176f",
   "metadata": {},
   "outputs": [
    {
     "data": {
      "text/plain": [
       "<matplotlib.collections.PathCollection at 0x7cda934446e0>"
      ]
     },
     "execution_count": 21,
     "metadata": {},
     "output_type": "execute_result"
    },
    {
     "data": {
      "image/png": "[encoded data removed]",
      "text/plain": [
       "<Figure size 640x480 with 1 Axes>"
      ]
     },
     "metadata": {},
     "output_type": "display_data"
    }
   ],
   "source": [
    "c11 = -1 \n",
    "c12 = -1\n",
    "c21 = 1 \n",
    "c22 = 1\n",
    "\n",
    "s1 = np.random.randn(20, 2) + [c11, c12]\n",
    "s2 = np.random.randn(20, 2) + [c21, c22]\n",
    "\n",
    "X = np.r_[s1,s2 ]\n",
    "Y = [-1] * 20 + [1] * 20\n",
    "plt.scatter(X[:, 0], X[:, 1], c=Y,cmap=plt.cm.Paired)"
   ]
  },
  {
   "cell_type": "markdown",
   "id": "8f217110",
   "metadata": {},
   "source": [
    "# Ab hier passen die Variablennamen noch nicht"
   ]
  },
  {
   "cell_type": "code",
   "execution_count": 22,
   "id": "62ba6f35",
   "metadata": {},
   "outputs": [
    {
     "ename": "NameError",
     "evalue": "name 'optim' is not defined",
     "output_type": "error",
     "traceback": [
      "\u001b[0;31m---------------------------------------------------------------------------\u001b[0m",
      "\u001b[0;31mNameError\u001b[0m                                 Traceback (most recent call last)",
      "Cell \u001b[0;32mIn[22], line 2\u001b[0m\n\u001b[1;32m      1\u001b[0m lr \u001b[38;5;241m=\u001b[39m \u001b[38;5;241m0.1\u001b[39m\n\u001b[0;32m----> 2\u001b[0m optimizer \u001b[38;5;241m=\u001b[39m \u001b[43moptim\u001b[49m\u001b[38;5;241m.\u001b[39mAdam(params\u001b[38;5;241m=\u001b[39mlr1\u001b[38;5;241m.\u001b[39mparameters(), lr\u001b[38;5;241m=\u001b[39mlr)\n\u001b[1;32m      3\u001b[0m bce_loss \u001b[38;5;241m=\u001b[39m nn\u001b[38;5;241m.\u001b[39mBCEWithLogitsLoss()\n",
      "\u001b[0;31mNameError\u001b[0m: name 'optim' is not defined"
     ]
    }
   ],
   "source": [
    "lr = 0.1\n",
    "optimizer = optim.Adam(params=lr1.parameters(), lr=lr)\n",
    "bce_loss = nn.BCEWithLogitsLoss()"
   ]
  },
  {
   "cell_type": "code",
   "execution_count": null,
   "id": "8e7a2385",
   "metadata": {},
   "outputs": [],
   "source": [
    "epoch = 0  # reset epoch counter\n",
    "n_epochs = 2\n",
    "for epoch in range(n_epochs):  # the model will train for a fixed number of epochs\n",
    "\n",
    "    # reset gradients\n",
    "    optimizer.zero_grad()\n",
    "        \n",
    "    x_batch = torch.randn(2,3)\n",
    "    \n",
    "    # get model predictions\n",
    "    y_pred = p(x_batch).squeeze()\n",
    "        \n",
    "    # compute loss\n",
    "    y = torch.tensor([0.0,1.0])\n",
    "    loss = bce_loss(y_pred, y)\n",
    "    print(\"Loss\",loss)\n",
    "        \n",
    "    # backpropagate loss & compute the gradients\n",
    "    loss.backward()\n",
    "    \n",
    "    print(\"Before step\",p.fc1.weight)\n",
    "        \n",
    "    # update the weights using the optimizer\n",
    "    optimizer.step()\n",
    "    \n",
    "    print(\"After step\",p.fc1.weight)"
   ]
  }
 ],
 "metadata": {
  "kernelspec": {
   "display_name": "Python 3 (ipykernel)",
   "language": "python",
   "name": "python3"
  },
  "language_info": {
   "codemirror_mode": {
    "name": "ipython",
    "version": 3
   },
   "file_extension": ".py",
   "mimetype": "text/x-python",
   "name": "python",
   "nbconvert_exporter": "python",
   "pygments_lexer": "ipython3",
   "version": "3.12.3"
  }
 },
 "nbformat": 4,
 "nbformat_minor": 5
}

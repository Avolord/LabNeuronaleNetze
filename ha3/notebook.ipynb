{
 "cells": [
  {
   "cell_type": "code",
   "execution_count": 30,
   "id": "2d63c996",
   "metadata": {},
   "outputs": [],
   "source": [
    "import torch\n",
    "import torch.nn as nn\n",
    "import numpy as np\n",
    "import matplotlib.pyplot as plt\n"
   ]
  },
  {
   "cell_type": "code",
   "execution_count": 31,
   "id": "5d02f6e3",
   "metadata": {},
   "outputs": [],
   "source": [
    "class Perceptron(nn.Module):\n",
    "\n",
    "    def __init__(self, input_dim, output_dim):\n",
    "       \n",
    "        super(Perceptron, self).__init__()\n",
    "        \n",
    "        self.fc1 = nn.Linear(input_dim, output_dim)\n",
    "\n",
    "    def forward(self, x_in):\n",
    "        \n",
    "        print(\"Hello I'm the forward function\")\n",
    "        y = self.fc1(x_in)\n",
    "        \n",
    "        return y\n"
   ]
  },
  {
   "cell_type": "code",
   "execution_count": 32,
   "id": "92574766",
   "metadata": {},
   "outputs": [],
   "source": [
    "model = Perceptron(3,1)"
   ]
  },
  {
   "cell_type": "code",
   "execution_count": 33,
   "id": "eeee963b",
   "metadata": {},
   "outputs": [
    {
     "data": {
      "text/plain": [
       "Perceptron(\n",
       "  (fc1): Linear(in_features=3, out_features=1, bias=True)\n",
       ")"
      ]
     },
     "execution_count": 33,
     "metadata": {},
     "output_type": "execute_result"
    }
   ],
   "source": [
    "model"
   ]
  },
  {
   "cell_type": "code",
   "execution_count": 34,
   "id": "221aebfa",
   "metadata": {},
   "outputs": [
    {
     "data": {
      "text/plain": [
       "Linear(in_features=3, out_features=1, bias=True)"
      ]
     },
     "execution_count": 34,
     "metadata": {},
     "output_type": "execute_result"
    }
   ],
   "source": [
    "model.fc1"
   ]
  },
  {
   "cell_type": "code",
   "execution_count": 35,
   "id": "bfca728a",
   "metadata": {},
   "outputs": [
    {
     "data": {
      "text/plain": [
       "Parameter containing:\n",
       "tensor([[ 0.4726, -0.2675, -0.1050]], requires_grad=True)"
      ]
     },
     "execution_count": 35,
     "metadata": {},
     "output_type": "execute_result"
    }
   ],
   "source": [
    "model.fc1.weight"
   ]
  },
  {
   "cell_type": "code",
   "execution_count": 36,
   "id": "6f0ec3e5",
   "metadata": {},
   "outputs": [
    {
     "data": {
      "text/plain": [
       "Parameter containing:\n",
       "tensor([[-0.5572,  0.4375,  0.0819]], requires_grad=True)"
      ]
     },
     "execution_count": 36,
     "metadata": {},
     "output_type": "execute_result"
    }
   ],
   "source": [
    "p2 = Perceptron(3,1)\n",
    "p2.fc1.weight"
   ]
  },
  {
   "cell_type": "code",
   "execution_count": 37,
   "id": "5351ea50",
   "metadata": {},
   "outputs": [],
   "source": [
    "x_1 = torch.tensor([1.0,0.0,0.0])"
   ]
  },
  {
   "cell_type": "code",
   "execution_count": 38,
   "id": "d5ed4404",
   "metadata": {},
   "outputs": [
    {
     "data": {
      "text/plain": [
       "tensor([1., 0., 0.])"
      ]
     },
     "execution_count": 38,
     "metadata": {},
     "output_type": "execute_result"
    }
   ],
   "source": [
    "x_1"
   ]
  },
  {
   "cell_type": "code",
   "execution_count": 39,
   "id": "95379f96",
   "metadata": {},
   "outputs": [
    {
     "name": "stdout",
     "output_type": "stream",
     "text": [
      "Hello I'm the forward function\n"
     ]
    },
    {
     "data": {
      "text/plain": [
       "tensor([-1.0025], grad_fn=<ViewBackward0>)"
      ]
     },
     "execution_count": 39,
     "metadata": {},
     "output_type": "execute_result"
    }
   ],
   "source": [
    "p2(x_1)"
   ]
  },
  {
   "cell_type": "code",
   "execution_count": 40,
   "id": "a4589f85",
   "metadata": {},
   "outputs": [
    {
     "data": {
      "text/plain": [
       "Parameter containing:\n",
       "tensor([-0.4453], requires_grad=True)"
      ]
     },
     "execution_count": 40,
     "metadata": {},
     "output_type": "execute_result"
    }
   ],
   "source": [
    "p2.fc1.bias"
   ]
  },
  {
   "cell_type": "code",
   "execution_count": 41,
   "id": "58435a6c",
   "metadata": {},
   "outputs": [
    {
     "data": {
      "text/plain": [
       "tensor([0.7311, 0.5000, 0.5000])"
      ]
     },
     "execution_count": 41,
     "metadata": {},
     "output_type": "execute_result"
    }
   ],
   "source": [
    "torch.sigmoid(x_1)"
   ]
  },
  {
   "cell_type": "code",
   "execution_count": 42,
   "id": "615057ae",
   "metadata": {},
   "outputs": [],
   "source": [
    "class LogReg(nn.Module):\n",
    "\n",
    "    def __init__(self, input_dim, output_dim):\n",
    "       \n",
    "        super(LogReg, self).__init__()\n",
    "        \n",
    "        self.fc1 = nn.Linear(input_dim, output_dim)\n",
    "\n",
    "    def forward(self, x_in):\n",
    "        \n",
    "        print(\"Hello I'm the forward function\")\n",
    "        y = self.fc1(x_in)\n",
    "        y = torch.sigmoid(y)\n",
    "        \n",
    "        return y\n"
   ]
  },
  {
   "cell_type": "code",
   "execution_count": 43,
   "id": "d302e157",
   "metadata": {},
   "outputs": [],
   "source": [
    "lr1 = LogReg(3,1)"
   ]
  },
  {
   "cell_type": "code",
   "execution_count": 44,
   "id": "d27e9929",
   "metadata": {},
   "outputs": [
    {
     "data": {
      "text/plain": [
       "Parameter containing:\n",
       "tensor([[-0.1103, -0.2433,  0.1532]], requires_grad=True)"
      ]
     },
     "execution_count": 44,
     "metadata": {},
     "output_type": "execute_result"
    }
   ],
   "source": [
    "lr1.fc1.weight"
   ]
  },
  {
   "cell_type": "code",
   "execution_count": 45,
   "id": "4f1e9bf7",
   "metadata": {},
   "outputs": [
    {
     "data": {
      "text/plain": [
       "Parameter containing:\n",
       "tensor([0.5102], requires_grad=True)"
      ]
     },
     "execution_count": 45,
     "metadata": {},
     "output_type": "execute_result"
    }
   ],
   "source": [
    "lr1.fc1.bias"
   ]
  },
  {
   "cell_type": "code",
   "execution_count": 46,
   "id": "b17b6f66",
   "metadata": {},
   "outputs": [
    {
     "data": {
      "text/plain": [
       "tensor([1., 0., 0.])"
      ]
     },
     "execution_count": 46,
     "metadata": {},
     "output_type": "execute_result"
    }
   ],
   "source": [
    "x_1"
   ]
  },
  {
   "cell_type": "code",
   "execution_count": 47,
   "id": "aa49e326",
   "metadata": {},
   "outputs": [
    {
     "name": "stdout",
     "output_type": "stream",
     "text": [
      "Hello I'm the forward function\n"
     ]
    },
    {
     "data": {
      "text/plain": [
       "tensor([0.5987], grad_fn=<SigmoidBackward0>)"
      ]
     },
     "execution_count": 47,
     "metadata": {},
     "output_type": "execute_result"
    }
   ],
   "source": [
    "lr1(x_1)"
   ]
  },
  {
   "cell_type": "code",
   "execution_count": 48,
   "id": "5a97be00",
   "metadata": {},
   "outputs": [],
   "source": [
    "x_2 = torch.tensor([-10000.0,-15.7,-8.9])"
   ]
  },
  {
   "cell_type": "code",
   "execution_count": 49,
   "id": "bd156557",
   "metadata": {},
   "outputs": [
    {
     "name": "stdout",
     "output_type": "stream",
     "text": [
      "Hello I'm the forward function\n"
     ]
    },
    {
     "data": {
      "text/plain": [
       "tensor([1.], grad_fn=<SigmoidBackward0>)"
      ]
     },
     "execution_count": 49,
     "metadata": {},
     "output_type": "execute_result"
    }
   ],
   "source": [
    "lr1(x_2)"
   ]
  },
  {
   "cell_type": "markdown",
   "id": "85222f02",
   "metadata": {},
   "source": [
    "# Punktewolken bauen"
   ]
  },
  {
   "cell_type": "code",
   "execution_count": 56,
   "id": "887b176f",
   "metadata": {},
   "outputs": [
    {
     "data": {
      "text/plain": [
       "<matplotlib.collections.PathCollection at 0x7cda83f7f4a0>"
      ]
     },
     "execution_count": 56,
     "metadata": {},
     "output_type": "execute_result"
    },
    {
     "data": {
      "image/png": "[encoded data removed]",
      "text/plain": [
       "<Figure size 640x480 with 1 Axes>"
      ]
     },
     "metadata": {},
     "output_type": "display_data"
    }
   ],
   "source": [
    "c11 = -1 \n",
    "c12 = -1\n",
    "c21 = 1 \n",
    "c22 = 1\n",
    "\n",
    "s1 = np.random.randn(20, 2) + [c11, c12]\n",
    "s2 = np.random.randn(20, 2) + [c21, c22]\n",
    "\n",
    "X = np.r_[s1,s2 ]\n",
    "Y = [-1] * 20 + [1] * 20\n",
    "plt.scatter(X[:, 0], X[:, 1], c=Y,cmap=plt.cm.Paired)"
   ]
  },
  {
   "cell_type": "markdown",
   "id": "8f217110",
   "metadata": {},
   "source": [
    "# Ab hier passen die Variablennamen noch nicht"
   ]
  },
  {
   "cell_type": "code",
   "execution_count": 51,
   "id": "62ba6f35",
   "metadata": {},
   "outputs": [],
   "source": [
    "from torch import optim\n",
    "\n",
    "lr = 0.1\n",
    "optimizer = optim.Adam(params=lr1.parameters(), lr=lr)\n",
    "bce_loss = nn.BCEWithLogitsLoss()"
   ]
  },
  {
   "cell_type": "code",
   "execution_count": 57,
   "id": "8e7a2385",
   "metadata": {},
   "outputs": [],
   "source": [
    "def train_model(model: nn.Module, n_epochs: int):\n",
    "    for epoch in range(n_epochs):  # the model will train for a fixed number of epochs\n",
    "\n",
    "        # reset gradients\n",
    "        optimizer.zero_grad()\n",
    "            \n",
    "        x_batch = torch.randn(2,3)\n",
    "        \n",
    "        # get model predictions\n",
    "        y_pred = model(x_batch).squeeze()\n",
    "            \n",
    "        # compute loss\n",
    "        y = torch.tensor([0.0,1.0])\n",
    "        loss = bce_loss(y_pred, y)\n",
    "        print(\"Loss\",loss)\n",
    "            \n",
    "        # backpropagate loss & compute the gradients\n",
    "        loss.backward()\n",
    "        \n",
    "        print(\"Before step\",model.fc1.weight)\n",
    "            \n",
    "        # update the weights using the optimizer\n",
    "        optimizer.step()\n",
    "        \n",
    "        print(\"After step\",model.fc1.weight)"
   ]
  },
  {
   "cell_type": "code",
   "execution_count": 60,
   "id": "210a8720",
   "metadata": {},
   "outputs": [
    {
     "name": "stdout",
     "output_type": "stream",
     "text": [
      "Hello I'm the forward function\n",
      "Loss tensor(0.7115, grad_fn=<BinaryCrossEntropyWithLogitsBackward0>)\n",
      "Before step Parameter containing:\n",
      "tensor([[ 0.1550, -0.1679, -0.3760]], requires_grad=True)\n",
      "After step Parameter containing:\n",
      "tensor([[ 0.1619, -0.1630, -0.4068]], requires_grad=True)\n",
      "Hello I'm the forward function\n",
      "Loss tensor(0.7372, grad_fn=<BinaryCrossEntropyWithLogitsBackward0>)\n",
      "Before step Parameter containing:\n",
      "tensor([[ 0.1619, -0.1630, -0.4068]], requires_grad=True)\n",
      "After step Parameter containing:\n",
      "tensor([[ 0.1546, -0.1739, -0.4175]], requires_grad=True)\n",
      "Hello I'm the forward function\n",
      "Loss tensor(0.7043, grad_fn=<BinaryCrossEntropyWithLogitsBackward0>)\n",
      "Before step Parameter containing:\n",
      "tensor([[ 0.1546, -0.1739, -0.4175]], requires_grad=True)\n",
      "After step Parameter containing:\n",
      "tensor([[ 0.1463, -0.1774, -0.4285]], requires_grad=True)\n",
      "Hello I'm the forward function\n",
      "Loss tensor(0.6685, grad_fn=<BinaryCrossEntropyWithLogitsBackward0>)\n",
      "Before step Parameter containing:\n",
      "tensor([[ 0.1463, -0.1774, -0.4285]], requires_grad=True)\n",
      "After step Parameter containing:\n",
      "tensor([[ 0.1402, -0.1723, -0.4499]], requires_grad=True)\n",
      "Hello I'm the forward function\n",
      "Loss tensor(0.7075, grad_fn=<BinaryCrossEntropyWithLogitsBackward0>)\n",
      "Before step Parameter containing:\n",
      "tensor([[ 0.1402, -0.1723, -0.4499]], requires_grad=True)\n",
      "After step Parameter containing:\n",
      "tensor([[ 0.1338, -0.1735, -0.4639]], requires_grad=True)\n",
      "Hello I'm the forward function\n",
      "Loss tensor(0.7332, grad_fn=<BinaryCrossEntropyWithLogitsBackward0>)\n",
      "Before step Parameter containing:\n",
      "tensor([[ 0.1338, -0.1735, -0.4639]], requires_grad=True)\n",
      "After step Parameter containing:\n",
      "tensor([[ 0.1252, -0.1780, -0.4640]], requires_grad=True)\n",
      "Hello I'm the forward function\n",
      "Loss tensor(0.6840, grad_fn=<BinaryCrossEntropyWithLogitsBackward0>)\n",
      "Before step Parameter containing:\n",
      "tensor([[ 0.1252, -0.1780, -0.4640]], requires_grad=True)\n",
      "After step Parameter containing:\n",
      "tensor([[ 0.1188, -0.1854, -0.4665]], requires_grad=True)\n",
      "Hello I'm the forward function\n",
      "Loss tensor(0.7331, grad_fn=<BinaryCrossEntropyWithLogitsBackward0>)\n",
      "Before step Parameter containing:\n",
      "tensor([[ 0.1188, -0.1854, -0.4665]], requires_grad=True)\n",
      "After step Parameter containing:\n",
      "tensor([[ 0.1081, -0.1791, -0.4598]], requires_grad=True)\n",
      "Hello I'm the forward function\n",
      "Loss tensor(0.6389, grad_fn=<BinaryCrossEntropyWithLogitsBackward0>)\n",
      "Before step Parameter containing:\n",
      "tensor([[ 0.1081, -0.1791, -0.4598]], requires_grad=True)\n",
      "After step Parameter containing:\n",
      "tensor([[ 0.1006, -0.1840, -0.4658]], requires_grad=True)\n",
      "Hello I'm the forward function\n",
      "Loss tensor(0.7164, grad_fn=<BinaryCrossEntropyWithLogitsBackward0>)\n",
      "Before step Parameter containing:\n",
      "tensor([[ 0.1006, -0.1840, -0.4658]], requires_grad=True)\n",
      "After step Parameter containing:\n",
      "tensor([[ 0.0948, -0.1808, -0.4674]], requires_grad=True)\n",
      "Hello I'm the forward function\n",
      "Loss tensor(1.0655, grad_fn=<BinaryCrossEntropyWithLogitsBackward0>)\n",
      "Before step Parameter containing:\n",
      "tensor([[-0.5572,  0.4375,  0.0819]], requires_grad=True)\n",
      "After step Parameter containing:\n",
      "tensor([[-0.5572,  0.4375,  0.0819]], requires_grad=True)\n",
      "Hello I'm the forward function\n",
      "Loss tensor(0.9780, grad_fn=<BinaryCrossEntropyWithLogitsBackward0>)\n",
      "Before step Parameter containing:\n",
      "tensor([[-0.5572,  0.4375,  0.0819]], requires_grad=True)\n",
      "After step Parameter containing:\n",
      "tensor([[-0.5572,  0.4375,  0.0819]], requires_grad=True)\n",
      "Hello I'm the forward function\n",
      "Loss tensor(1.3313, grad_fn=<BinaryCrossEntropyWithLogitsBackward0>)\n",
      "Before step Parameter containing:\n",
      "tensor([[-0.5572,  0.4375,  0.0819]], requires_grad=True)\n",
      "After step Parameter containing:\n",
      "tensor([[-0.5572,  0.4375,  0.0819]], requires_grad=True)\n",
      "Hello I'm the forward function\n",
      "Loss tensor(0.8425, grad_fn=<BinaryCrossEntropyWithLogitsBackward0>)\n",
      "Before step Parameter containing:\n",
      "tensor([[-0.5572,  0.4375,  0.0819]], requires_grad=True)\n",
      "After step Parameter containing:\n",
      "tensor([[-0.5572,  0.4375,  0.0819]], requires_grad=True)\n",
      "Hello I'm the forward function\n",
      "Loss tensor(1.0278, grad_fn=<BinaryCrossEntropyWithLogitsBackward0>)\n",
      "Before step Parameter containing:\n",
      "tensor([[-0.5572,  0.4375,  0.0819]], requires_grad=True)\n",
      "After step Parameter containing:\n",
      "tensor([[-0.5572,  0.4375,  0.0819]], requires_grad=True)\n",
      "Hello I'm the forward function\n",
      "Loss tensor(0.6950, grad_fn=<BinaryCrossEntropyWithLogitsBackward0>)\n",
      "Before step Parameter containing:\n",
      "tensor([[-0.5572,  0.4375,  0.0819]], requires_grad=True)\n",
      "After step Parameter containing:\n",
      "tensor([[-0.5572,  0.4375,  0.0819]], requires_grad=True)\n",
      "Hello I'm the forward function\n",
      "Loss tensor(0.5597, grad_fn=<BinaryCrossEntropyWithLogitsBackward0>)\n",
      "Before step Parameter containing:\n",
      "tensor([[-0.5572,  0.4375,  0.0819]], requires_grad=True)\n",
      "After step Parameter containing:\n",
      "tensor([[-0.5572,  0.4375,  0.0819]], requires_grad=True)\n",
      "Hello I'm the forward function\n",
      "Loss tensor(0.2766, grad_fn=<BinaryCrossEntropyWithLogitsBackward0>)\n",
      "Before step Parameter containing:\n",
      "tensor([[-0.5572,  0.4375,  0.0819]], requires_grad=True)\n",
      "After step Parameter containing:\n",
      "tensor([[-0.5572,  0.4375,  0.0819]], requires_grad=True)\n",
      "Hello I'm the forward function\n",
      "Loss tensor(0.6722, grad_fn=<BinaryCrossEntropyWithLogitsBackward0>)\n",
      "Before step Parameter containing:\n",
      "tensor([[-0.5572,  0.4375,  0.0819]], requires_grad=True)\n",
      "After step Parameter containing:\n",
      "tensor([[-0.5572,  0.4375,  0.0819]], requires_grad=True)\n",
      "Hello I'm the forward function\n",
      "Loss tensor(0.5209, grad_fn=<BinaryCrossEntropyWithLogitsBackward0>)\n",
      "Before step Parameter containing:\n",
      "tensor([[-0.5572,  0.4375,  0.0819]], requires_grad=True)\n",
      "After step Parameter containing:\n",
      "tensor([[-0.5572,  0.4375,  0.0819]], requires_grad=True)\n"
     ]
    }
   ],
   "source": [
    "train_model(lr1, n_epochs = 10)\n",
    "train_model(p2, n_epochs = 10)\n"
   ]
  },
  {
   "cell_type": "code",
   "execution_count": 62,
   "id": "0ff30157",
   "metadata": {},
   "outputs": [
    {
     "data": {
      "image/png": "[encoded data removed]",
      "text/plain": [
       "<Figure size 640x480 with 1 Axes>"
      ]
     },
     "metadata": {},
     "output_type": "display_data"
    },
    {
     "data": {
      "image/png": "[encoded data removed]",
      "text/plain": [
       "<Figure size 640x480 with 1 Axes>"
      ]
     },
     "metadata": {},
     "output_type": "display_data"
    }
   ],
   "source": [
    "import matplotlib.pyplot as plt\n",
    "import numpy as np\n",
    "\n",
    "def plot_decision_boundry(model: nn.Module):\n",
    "\n",
    "    # Gewichte des Modells\n",
    "    weights = model.fc1.weight.detach().numpy()\n",
    "    bias = model.fc1.bias.detach().numpy()\n",
    "\n",
    "    # Plot der Datenpunkte\n",
    "    plt.scatter(X[:, 0], X[:, 1], c=Y, cmap=plt.cm.Paired)\n",
    "\n",
    "    # Plot der Decision Boundary\n",
    "    x = np.linspace(np.min(X[:, 0]), np.max(X[:, 0]), 100)\n",
    "    y = -(weights[0][0] * x + bias) / weights[0][1]\n",
    "    plt.plot(x, y, color='black')\n",
    "\n",
    "    # Achsenbeschriftungen\n",
    "    plt.xlabel('X')\n",
    "    plt.ylabel('Y')\n",
    "\n",
    "    # Plot anzeigen\n",
    "    plt.show()\n",
    "\n",
    "plot_decision_boundry(lr1)\n",
    "plot_decision_boundry(p2)"
   ]
  }
 ],
 "metadata": {
  "kernelspec": {
   "display_name": "Python 3 (ipykernel)",
   "language": "python",
   "name": "python3"
  },
  "language_info": {
   "codemirror_mode": {
    "name": "ipython",
    "version": 3
   },
   "file_extension": ".py",
   "mimetype": "text/x-python",
   "name": "python",
   "nbconvert_exporter": "python",
   "pygments_lexer": "ipython3",
   "version": "3.12.3"
  }
 },
 "nbformat": 4,
 "nbformat_minor": 5
}

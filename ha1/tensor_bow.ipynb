{
 "cells": [
  {
   "cell_type": "code",
   "execution_count": 1,
   "id": "c75e2ec5",
   "metadata": {},
   "outputs": [
    {
     "name": "stderr",
     "output_type": "stream",
     "text": [
      "c:\\Users\\theav\\SynologyDrive\\Uni Bielefeld\\Neuronale Netze in der Sprachverarbeitung\\env\\Lib\\site-packages\\torch\\nn\\modules\\transformer.py:20: UserWarning: Failed to initialize NumPy: No module named 'numpy' (Triggered internally at ..\\torch\\csrc\\utils\\tensor_numpy.cpp:84.)\n",
      "  device: torch.device = torch.device(torch._C._get_default_device()),  # torch.device('cpu'),\n"
     ]
    }
   ],
   "source": [
    "import torch"
   ]
  },
  {
   "cell_type": "code",
   "execution_count": 2,
   "id": "f422706d",
   "metadata": {},
   "outputs": [],
   "source": [
    "t1 = torch.tensor([1,2])"
   ]
  },
  {
   "cell_type": "code",
   "execution_count": 3,
   "id": "860538f5",
   "metadata": {},
   "outputs": [
    {
     "data": {
      "text/plain": [
       "tensor([1, 2])"
      ]
     },
     "execution_count": 3,
     "metadata": {},
     "output_type": "execute_result"
    }
   ],
   "source": [
    "t1"
   ]
  },
  {
   "cell_type": "code",
   "execution_count": 4,
   "id": "3909867a",
   "metadata": {},
   "outputs": [
    {
     "data": {
      "text/plain": [
       "tensor([2, 4])"
      ]
     },
     "execution_count": 4,
     "metadata": {},
     "output_type": "execute_result"
    }
   ],
   "source": [
    "t1 * 2"
   ]
  },
  {
   "cell_type": "code",
   "execution_count": 5,
   "id": "11e1a4a3",
   "metadata": {},
   "outputs": [
    {
     "data": {
      "text/plain": [
       "torch.Size([2])"
      ]
     },
     "execution_count": 5,
     "metadata": {},
     "output_type": "execute_result"
    }
   ],
   "source": [
    "t1.size()"
   ]
  },
  {
   "cell_type": "code",
   "execution_count": 6,
   "id": "94254ff8",
   "metadata": {},
   "outputs": [],
   "source": [
    "mat1 = torch.tensor([[1,2],[5,6]])"
   ]
  },
  {
   "cell_type": "code",
   "execution_count": 7,
   "id": "e8ae86a2",
   "metadata": {},
   "outputs": [
    {
     "data": {
      "text/plain": [
       "tensor([[1, 2],\n",
       "        [5, 6]])"
      ]
     },
     "execution_count": 7,
     "metadata": {},
     "output_type": "execute_result"
    }
   ],
   "source": [
    "mat1"
   ]
  },
  {
   "cell_type": "code",
   "execution_count": 8,
   "id": "97459305",
   "metadata": {},
   "outputs": [
    {
     "data": {
      "text/plain": [
       "tensor([5, 6])"
      ]
     },
     "execution_count": 8,
     "metadata": {},
     "output_type": "execute_result"
    }
   ],
   "source": [
    "mat1[1]"
   ]
  },
  {
   "cell_type": "code",
   "execution_count": 10,
   "id": "d46d137e",
   "metadata": {},
   "outputs": [
    {
     "data": {
      "text/plain": [
       "tensor([2, 6])"
      ]
     },
     "execution_count": 10,
     "metadata": {},
     "output_type": "execute_result"
    }
   ],
   "source": [
    "mat1[:,1]"
   ]
  },
  {
   "cell_type": "code",
   "execution_count": 11,
   "id": "62e3e84d",
   "metadata": {},
   "outputs": [],
   "source": [
    "mat3 = torch.tensor([[1,2,10,20],[5,6,50,60]])"
   ]
  },
  {
   "cell_type": "code",
   "execution_count": 12,
   "id": "1feed0aa",
   "metadata": {},
   "outputs": [
    {
     "data": {
      "text/plain": [
       "tensor([[ 1,  2, 10, 20],\n",
       "        [ 5,  6, 50, 60]])"
      ]
     },
     "execution_count": 12,
     "metadata": {},
     "output_type": "execute_result"
    }
   ],
   "source": [
    "mat3[0:2]"
   ]
  },
  {
   "cell_type": "code",
   "execution_count": 13,
   "id": "48f8af9e",
   "metadata": {},
   "outputs": [
    {
     "data": {
      "text/plain": [
       "tensor([[ 1,  2, 10, 20]])"
      ]
     },
     "execution_count": 13,
     "metadata": {},
     "output_type": "execute_result"
    }
   ],
   "source": [
    "mat3[0:1]"
   ]
  },
  {
   "cell_type": "code",
   "execution_count": 14,
   "id": "8927aa71",
   "metadata": {},
   "outputs": [
    {
     "data": {
      "text/plain": [
       "tensor([ 1,  2, 10, 20])"
      ]
     },
     "execution_count": 14,
     "metadata": {},
     "output_type": "execute_result"
    }
   ],
   "source": [
    "mat3[0]"
   ]
  },
  {
   "cell_type": "code",
   "execution_count": 15,
   "id": "be076bc3",
   "metadata": {},
   "outputs": [
    {
     "data": {
      "text/plain": [
       "torch.Size([1, 4])"
      ]
     },
     "execution_count": 15,
     "metadata": {},
     "output_type": "execute_result"
    }
   ],
   "source": [
    "mat3[0:1].size()"
   ]
  },
  {
   "cell_type": "code",
   "execution_count": 16,
   "id": "ede07ffc",
   "metadata": {},
   "outputs": [
    {
     "data": {
      "text/plain": [
       "torch.Size([4])"
      ]
     },
     "execution_count": 16,
     "metadata": {},
     "output_type": "execute_result"
    }
   ],
   "source": [
    "mat3[0].size()"
   ]
  },
  {
   "cell_type": "code",
   "execution_count": null,
   "id": "78388886",
   "metadata": {},
   "outputs": [],
   "source": []
  },
  {
   "cell_type": "code",
   "execution_count": null,
   "id": "ac280b48",
   "metadata": {},
   "outputs": [],
   "source": []
  },
  {
   "cell_type": "code",
   "execution_count": 37,
   "id": "92a998a6",
   "metadata": {},
   "outputs": [],
   "source": [
    "corpus = [[\"Every dog loves a cat.\", \"Not every mouse loves a cat.\", \"All cats are happy.\", \"Not all dogs are happy.\"]]"
   ]
  },
  {
   "cell_type": "code",
   "execution_count": 18,
   "id": "22b3c595",
   "metadata": {},
   "outputs": [],
   "source": [
    "bow = torch.zeros(4,4)"
   ]
  },
  {
   "cell_type": "code",
   "execution_count": 19,
   "id": "54ed2589",
   "metadata": {},
   "outputs": [
    {
     "data": {
      "text/plain": [
       "tensor([[0., 0., 0., 0.],\n",
       "        [0., 0., 0., 0.],\n",
       "        [0., 0., 0., 0.],\n",
       "        [0., 0., 0., 0.]])"
      ]
     },
     "execution_count": 19,
     "metadata": {},
     "output_type": "execute_result"
    }
   ],
   "source": [
    "bow"
   ]
  },
  {
   "cell_type": "code",
   "execution_count": 20,
   "id": "d1b9fc6d",
   "metadata": {},
   "outputs": [
    {
     "data": {
      "text/plain": [
       "tensor([[0., 0., 0., 0.],\n",
       "        [0., 0., 0., 0.]])"
      ]
     },
     "execution_count": 20,
     "metadata": {},
     "output_type": "execute_result"
    }
   ],
   "source": [
    "bow[0:2]"
   ]
  },
  {
   "cell_type": "code",
   "execution_count": 21,
   "id": "fc93a451",
   "metadata": {},
   "outputs": [
    {
     "data": {
      "text/plain": [
       "tensor(0.)"
      ]
     },
     "execution_count": 21,
     "metadata": {},
     "output_type": "execute_result"
    }
   ],
   "source": [
    "bow[0,2]"
   ]
  },
  {
   "cell_type": "code",
   "execution_count": 22,
   "id": "997bb4fb",
   "metadata": {},
   "outputs": [],
   "source": [
    "bow[0,2] = 1"
   ]
  },
  {
   "cell_type": "code",
   "execution_count": 23,
   "id": "133168aa",
   "metadata": {},
   "outputs": [
    {
     "data": {
      "text/plain": [
       "tensor([[0., 0., 1., 0.],\n",
       "        [0., 0., 0., 0.],\n",
       "        [0., 0., 0., 0.],\n",
       "        [0., 0., 0., 0.]])"
      ]
     },
     "execution_count": 23,
     "metadata": {},
     "output_type": "execute_result"
    }
   ],
   "source": [
    "bow"
   ]
  },
  {
   "cell_type": "code",
   "execution_count": 34,
   "id": "aaed43c8",
   "metadata": {},
   "outputs": [],
   "source": [
    "### TODO: befülle die BOW-Matrix so, dass jeder Text aus dem corpus \n",
    "### als Vektor über dem Vokabular (dog, cat, loves, happy) dargestellt wird"
   ]
  },
  {
   "cell_type": "code",
   "execution_count": 41,
   "id": "eeff941a",
   "metadata": {},
   "outputs": [
    {
     "name": "stdout",
     "output_type": "stream",
     "text": [
      "tensor([[1., 1., 1., 0.],\n",
      "        [0., 1., 1., 0.],\n",
      "        [0., 0., 0., 1.],\n",
      "        [0., 0., 0., 1.]])\n"
     ]
    }
   ],
   "source": [
    "vocab = [\"dog\", \"cat\", \"loves\", \"happy\"]\n",
    "\n",
    "for i, sentence in enumerate(corpus[0]):\n",
    "    #remove the ending punctuation\n",
    "    sentence = sentence.replace(\".\", \"\")\n",
    "    \n",
    "    #count the occurences of the words in the sentence\n",
    "    word_counts = {}\n",
    "    for word in sentence.split():\n",
    "        if word in word_counts:\n",
    "            word_counts[word] += 1\n",
    "        else:\n",
    "            word_counts[word] = 1\n",
    "            \n",
    "    #fill the BOW matrix\n",
    "    for j, word in enumerate(vocab):\n",
    "        if word in word_counts:\n",
    "            bow[i, j] = word_counts[word]\n",
    "            \n",
    "print(bow)"
   ]
  },
  {
   "cell_type": "code",
   "execution_count": null,
   "id": "79f35a39",
   "metadata": {},
   "outputs": [],
   "source": []
  }
 ],
 "metadata": {
  "kernelspec": {
   "display_name": "Python 3 (ipykernel)",
   "language": "python",
   "name": "python3"
  },
  "language_info": {
   "codemirror_mode": {
    "name": "ipython",
    "version": 3
   },
   "file_extension": ".py",
   "mimetype": "text/x-python",
   "name": "python",
   "nbconvert_exporter": "python",
   "pygments_lexer": "ipython3",
   "version": "3.12.1"
  }
 },
 "nbformat": 4,
 "nbformat_minor": 5
}
